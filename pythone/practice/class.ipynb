{
 "cells": [
  {
   "cell_type": "code",
   "execution_count": 6,
   "id": "2796a1bf",
   "metadata": {},
   "outputs": [
    {
     "name": "stdout",
     "output_type": "stream",
     "text": [
      "player health is <class 'int'>\n",
      "player_has_magic is and <class 'bool'>\n"
     ]
    }
   ],
   "source": [
    "player_health = 100\n",
    "player_has_magic= True\n",
    "\n",
    "print(f\"player health is {type(player_health)}\")\n",
    "print(f\"player_has_magic is and {type(player_has_magic)}\")"
   ]
  },
  {
   "cell_type": "code",
   "execution_count": null,
   "id": "ca47952f",
   "metadata": {},
   "outputs": [
    {
     "name": "stdout",
     "output_type": "stream",
     "text": [
      "my name is trash puppy and my height is 6ft tall\n"
     ]
    }
   ],
   "source": [
    "name = \"trash puppy\"\n",
    "height= \"6ft\"\n",
    "\n",
    "print(f\"my name is {name} and my height is {height} tall\")\n"
   ]
  },
  {
   "cell_type": "code",
   "execution_count": 12,
   "id": "8d1fd45b",
   "metadata": {},
   "outputs": [
    {
     "name": "stdout",
     "output_type": "stream",
     "text": [
      "True\n"
     ]
    }
   ],
   "source": [
    "enemy= None\n",
    "\n",
    "print(enemy is None)"
   ]
  },
  {
   "cell_type": "code",
   "execution_count": 22,
   "id": "4686af43",
   "metadata": {},
   "outputs": [
    {
     "name": "stdout",
     "output_type": "stream",
     "text": [
      "you have 1200\n",
      "you have 1100 health\n"
     ]
    }
   ],
   "source": [
    "sentence_start =\"you have \"\n",
    "sentence_end = \"health\"\n",
    "\n",
    "player_1health = \"1200\"\n",
    "player_2health = \"1100 \"\n",
    "\n",
    "print(sentence_start + player_1health)\n",
    "\n",
    "print(sentence_start + player_2health + sentence_end)"
   ]
  },
  {
   "cell_type": "code",
   "execution_count": 26,
   "id": "563bf308",
   "metadata": {},
   "outputs": [
    {
     "name": "stdout",
     "output_type": "stream",
     "text": [
      "my name is Hassan\n",
      "i live in lahore\n"
     ]
    }
   ],
   "source": [
    "# function\n",
    "# first we will define a function\n",
    "# we will define a funtion with def and define with any like \"main\" \"hassan\" \n",
    "def main():\n",
    "    print(\"my name is Hassan\")\n",
    "    print(\"i live in lahore\")\n",
    "main()    "
   ]
  },
  {
   "cell_type": "code",
   "execution_count": 37,
   "id": "be9d5fed",
   "metadata": {},
   "outputs": [
    {
     "name": "stdout",
     "output_type": "stream",
     "text": [
      "0\n",
      "1\n",
      "2\n",
      "3\n",
      "4\n",
      "5\n",
      "6\n",
      "7\n",
      "8\n",
      "9\n"
     ]
    }
   ],
   "source": [
    "for i in range(0,10):\n",
    "    print(i)"
   ]
  },
  {
   "cell_type": "code",
   "execution_count": null,
   "id": "e11d2ce3",
   "metadata": {},
   "outputs": [],
   "source": []
  }
 ],
 "metadata": {
  "kernelspec": {
   "display_name": "Python 3",
   "language": "python",
   "name": "python3"
  },
  "language_info": {
   "codemirror_mode": {
    "name": "ipython",
    "version": 3
   },
   "file_extension": ".py",
   "mimetype": "text/x-python",
   "name": "python",
   "nbconvert_exporter": "python",
   "pygments_lexer": "ipython3",
   "version": "3.13.7"
  }
 },
 "nbformat": 4,
 "nbformat_minor": 5
}
