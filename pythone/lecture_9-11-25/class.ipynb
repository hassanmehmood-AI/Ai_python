{
 "cells": [
  {
   "cell_type": "code",
   "execution_count": null,
   "id": "5b142e79",
   "metadata": {},
   "outputs": [],
   "source": [
    "# functions\n",
    "\n"
   ]
  },
  {
   "cell_type": "code",
   "execution_count": 5,
   "id": "e72d31df",
   "metadata": {},
   "outputs": [],
   "source": [
    "def great():\n",
    "    print(\"welcome!\")\n",
    "    print(\"welcome!\")\n",
    "    print(\"welcome!\")\n",
    "    print(\"welcome!\")\n",
    "    print(\"welcome!\")"
   ]
  },
  {
   "cell_type": "code",
   "execution_count": 6,
   "id": "57d4da54",
   "metadata": {},
   "outputs": [
    {
     "name": "stdout",
     "output_type": "stream",
     "text": [
      "welcome!\n",
      "welcome!\n",
      "welcome!\n",
      "welcome!\n",
      "welcome!\n"
     ]
    }
   ],
   "source": [
    "great()"
   ]
  },
  {
   "cell_type": "code",
   "execution_count": 9,
   "id": "37f13770",
   "metadata": {},
   "outputs": [],
   "source": [
    "def great(name):\n",
    "    print(f\"welcome {name}\")\n",
    "    "
   ]
  },
  {
   "cell_type": "code",
   "execution_count": 10,
   "id": "f072e432",
   "metadata": {},
   "outputs": [
    {
     "name": "stdout",
     "output_type": "stream",
     "text": [
      "welcome salar\n"
     ]
    }
   ],
   "source": [
    "great(\"salar\")"
   ]
  },
  {
   "cell_type": "code",
   "execution_count": 11,
   "id": "bff72734",
   "metadata": {},
   "outputs": [],
   "source": [
    "def square(x,y):\n",
    "    print(x**y)"
   ]
  },
  {
   "cell_type": "code",
   "execution_count": null,
   "id": "4b5162e8",
   "metadata": {},
   "outputs": [
    {
     "name": "stdout",
     "output_type": "stream",
     "text": [
      "25\n"
     ]
    }
   ],
   "source": [
    "square(5,2)\n"
   ]
  },
  {
   "cell_type": "code",
   "execution_count": null,
   "id": "0b5f5625",
   "metadata": {},
   "outputs": [],
   "source": [
    "# problem 1\n",
    "\n"
   ]
  },
  {
   "cell_type": "code",
   "execution_count": null,
   "id": "ecc766c7",
   "metadata": {},
   "outputs": [],
   "source": [
    "user_input = (\"enter your tweet\")\n",
    "if (len(user_input)<140):\n",
    "    print(f\"that {len(user_input)}char tweet wwill work\")\n",
    "\n",
    "else:\n",
    "    print(f\"your{len(user_input)}char tweet is {140 - len(user_input)}char too long\")"
   ]
  },
  {
   "cell_type": "code",
   "execution_count": null,
   "id": "84f6902b",
   "metadata": {},
   "outputs": [],
   "source": [
    "# problem 2"
   ]
  },
  {
   "cell_type": "code",
   "execution_count": 38,
   "id": "9830ac2a",
   "metadata": {},
   "outputs": [
    {
     "name": "stdout",
     "output_type": "stream",
     "text": [
      "morbidly obese\n"
     ]
    }
   ],
   "source": [
    "user_height = int(input(\"enter your height in inches\"))\n",
    "user_weight = int(input(\"enter you weight in pounds\"))\n",
    "\n",
    "bmi = (user_weight*703)/(user_height**2)\n",
    "if bmi < 16.0:\n",
    "    print(\"severly underweight\")\n",
    "elif bmi<18.4:\n",
    "    print(\"underweight\")\n",
    "elif bmi<24.9:\n",
    "    print(\"normal\")\n",
    "elif bmi<29.9:\n",
    "    print(\"overweight\")\n",
    "elif bmi<34.9:\n",
    "    print(\"moderately obese\")\n",
    "elif bmi<39.9:\n",
    "    print(\"severly obese\")\n",
    "else: \n",
    "    print(\"morbidly obese\")\n",
    "\n",
    "    "
   ]
  },
  {
   "cell_type": "code",
   "execution_count": null,
   "id": "78bf8735",
   "metadata": {},
   "outputs": [],
   "source": [
    "#problem 3\n",
    "\n"
   ]
  },
  {
   "cell_type": "code",
   "execution_count": 41,
   "id": "9514c0a0",
   "metadata": {},
   "outputs": [
    {
     "name": "stdout",
     "output_type": "stream",
     "text": [
      "you have1300week left\n"
     ]
    }
   ],
   "source": [
    "age = int(input(\"enter your age\"))\n",
    "print(f\"you have{(50 - age)*52}week left\")"
   ]
  },
  {
   "cell_type": "code",
   "execution_count": null,
   "id": "7987918d",
   "metadata": {},
   "outputs": [],
   "source": [
    "#problem 4\n"
   ]
  },
  {
   "cell_type": "code",
   "execution_count": null,
   "id": "b0ad2b34",
   "metadata": {},
   "outputs": [],
   "source": [
    "user_height = float(input(\"enter your height in meter\"))\n",
    "user_weight = int(input(\"enter your weight in kg\"))\n",
    "\n",
    "bmi = (user_weight)/(user_height**2)\n",
    "print(f\"your bmi is {bmi}\")\n",
    "\n"
   ]
  },
  {
   "cell_type": "code",
   "execution_count": null,
   "id": "ea9964f1",
   "metadata": {},
   "outputs": [],
   "source": [
    "#problem 5\n"
   ]
  },
  {
   "cell_type": "code",
   "execution_count": null,
   "id": "ea7f67f0",
   "metadata": {},
   "outputs": [],
   "source": [
    "small_pizza = 15\n",
    "medium_pizza = 20\n",
    "large_pizza = 25\n",
    "total= 0\n",
    "\n",
    "size = input(\"enter the size os pizza\").lower()\n",
    "if \n",
    "peproni= input(\"add peproni for small(+$2),medium & medium & large (+$3) (y or n)\")\n",
    "extra_cheese =input(\"add extra cheese for any size pizza (y or n) +$1\")\n"
   ]
  },
  {
   "cell_type": "code",
   "execution_count": null,
   "id": "acb6a6d8",
   "metadata": {},
   "outputs": [],
   "source": [
    "#problem 6\n"
   ]
  },
  {
   "cell_type": "code",
   "execution_count": 24,
   "id": "ddff955f",
   "metadata": {},
   "outputs": [
    {
     "name": "stdout",
     "output_type": "stream",
     "text": [
      "number of even number4\n",
      "number of odd number5\n"
     ]
    }
   ],
   "source": [
    "nums = [ 1,2,3,4,5,6,7,8,9]\n",
    "even = 0\n",
    "odd = 0\n",
    "for n in nums:\n",
    "     if(n%2==0):\n",
    "        even +=1\n",
    "     else:\n",
    "        odd +=1\n",
    "\n",
    "print(f\"number of even number{even}\")\n",
    "print(f\"number of odd number{odd}\")\n"
   ]
  },
  {
   "cell_type": "code",
   "execution_count": null,
   "id": "9ec91fd9",
   "metadata": {},
   "outputs": [],
   "source": [
    "#problem  7"
   ]
  },
  {
   "cell_type": "code",
   "execution_count": 33,
   "id": "0435b1ec",
   "metadata": {},
   "outputs": [
    {
     "name": "stdout",
     "output_type": "stream",
     "text": [
      "1111111111111111"
     ]
    }
   ],
   "source": [
    "user_input=int(input(\"enter your number\"))\n",
    "ans =[1,1]\n",
    "for i in range(2, user_input):\n",
    "    \n",
    " for x in ans:\n",
    "    print(x,end='')"
   ]
  },
  {
   "cell_type": "code",
   "execution_count": null,
   "id": "31241817",
   "metadata": {},
   "outputs": [],
   "source": [
    "#problem 8"
   ]
  },
  {
   "cell_type": "code",
   "execution_count": 36,
   "id": "63258edb",
   "metadata": {},
   "outputs": [
    {
     "name": "stdout",
     "output_type": "stream",
     "text": [
      "your password is valid\n"
     ]
    }
   ],
   "source": [
    "user_input = input(\"enter your password\")\n",
    "alpha = False\n",
    "number = False\n",
    "special = False\n",
    "length = False\n",
    "\n",
    "if (len(user_input)>=6 and len(user_input)<=16):\n",
    "    length = True\n",
    "special_char =['@','#','$','%','&']\n",
    "\n",
    "for char in user_input:\n",
    "        if (char.isalpha()):\n",
    "            alpha = True\n",
    "        if (char.isnumeric()):\n",
    "            number = True\n",
    "        if (char in special_char):\n",
    "             special = True\n",
    "if (alpha and number and special and length):\n",
    "         print(\"your password is valid\")\n",
    "else:\n",
    "      print(\"its incorect password\")"
   ]
  },
  {
   "cell_type": "code",
   "execution_count": null,
   "id": "83256847",
   "metadata": {},
   "outputs": [],
   "source": []
  }
 ],
 "metadata": {
  "kernelspec": {
   "display_name": "Python 3",
   "language": "python",
   "name": "python3"
  },
  "language_info": {
   "codemirror_mode": {
    "name": "ipython",
    "version": 3
   },
   "file_extension": ".py",
   "mimetype": "text/x-python",
   "name": "python",
   "nbconvert_exporter": "python",
   "pygments_lexer": "ipython3",
   "version": "3.13.7"
  }
 },
 "nbformat": 4,
 "nbformat_minor": 5
}
