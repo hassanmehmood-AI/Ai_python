{
 "cells": [
  {
   "cell_type": "markdown",
   "id": "bb904f50",
   "metadata": {},
   "source": [
    "# Loops "
   ]
  },
  {
   "cell_type": "code",
   "execution_count": null,
   "id": "bada944c",
   "metadata": {},
   "outputs": [],
   "source": [
    "user_input = int(input(\"Enter a number to print its table\"))\n",
    "for i in range(1, 11, 1):\n",
    "    print(f\"{user_input} X {i} = {i*user_input}\")"
   ]
  },
  {
   "cell_type": "code",
   "execution_count": null,
   "id": "018f1557",
   "metadata": {},
   "outputs": [],
   "source": [
    "fav_cartoons = ['Oggy', 'Tom', 'Courage']\n",
    "\n",
    "for name in fav_cartoons:\n",
    "    print(name)"
   ]
  },
  {
   "cell_type": "code",
   "execution_count": null,
   "id": "7ffeb834",
   "metadata": {},
   "outputs": [],
   "source": [
    "answer = input(\"PLease say hi \").lower()\n",
    "\n",
    "while answer != 'hi':\n",
    "    answer = input('Rude. Say hi....')\n",
    "\n",
    "print(\"Thank you. Hi to you too!\")"
   ]
  },
  {
   "cell_type": "code",
   "execution_count": null,
   "id": "e103d8d3",
   "metadata": {},
   "outputs": [],
   "source": [
    "count = 4\n",
    "\n",
    "while count < 10:\n",
    "    count -= 1 # infinite loop\n",
    "\n",
    "print(count)"
   ]
  },
  {
   "cell_type": "code",
   "execution_count": null,
   "id": "20aa4480",
   "metadata": {},
   "outputs": [],
   "source": [
    "string = \"Hassan\"\n",
    "print(string[1: 5])"
   ]
  },
  {
   "cell_type": "code",
   "execution_count": null,
   "id": "0a1bd529",
   "metadata": {},
   "outputs": [
    {
     "name": "stdout",
     "output_type": "stream",
     "text": [
      "**** Conver Celsius temperature into Farenheit ****\n",
      "Wear a t-shirt!\n"
     ]
    }
   ],
   "source": [
    "# problem #1\n",
    "\n",
    "# Display the program headline\n",
    "\n",
    "# Get user temperature in Celsius\n",
    "\n",
    "# Convert temperature value to float\n",
    "\n",
    "# Convert Celsius to Fahrenheit using the formula: (Celsius * 9/5) + 32\n",
    "\n",
    "# Create clothing recommendation based on the temperature:\n",
    "#   - Below 32°F (0°C): Suggest heavy winter coat, gloves, and hat\n",
    "#   - Between 32°F to 50°F (0°C to 10°C): Recommend a warm jacket\n",
    "#   - Between 50°F to 65°F (10°C to 18°C): Suggest a light sweater\n",
    "#   - Between 65°F to 80°F (18°C to 27°C): Recommend a t-shirt\n",
    "#   - Above 80°F (27°C): Suggest light, breathable clothing\n",
    "\n",
    "# Print Fahrenheit temperature value and clothing recommendation\n",
    "\n",
    "print(\"**** Convert Celsius temperature into Farenheit ****\")\n",
    "\n",
    "user_input = float(input(\"Enter Temperature in Celsius\"))\n",
    "\n",
    "temp_farenheit = int((user_input * 9 / 5) + 32)\n",
    "\n",
    "if temp_farenheit <= 32:\n",
    "    print(\"Wear a heavy winter coat, gloves and hat\")\n",
    "\n",
    "elif temp_farenheit <= 50:\n",
    "    print(\"Wear a Warm Jacket!\")\n",
    "\n",
    "elif temp_farenheit <= 65:\n",
    "    print(\"Wear a light sweater!\")\n",
    "\n",
    "elif temp_farenheit <= 80:\n",
    "    print(\"Wear a t-shirt!\")\n",
    "\n",
    "elif temp_farenheit > 80:\n",
    "    print(\"Wear a light and breathable clothes!\")"
   ]
  },
  {
   "cell_type": "code",
   "execution_count": null,
   "id": "f21cb615",
   "metadata": {},
   "outputs": [],
   "source": [
    "# problem #2\n",
    "\n",
    "# Develop a program that:\n",
    "#   - Asks the user to input their monthly income\n",
    "#   - Asks for expenses in different categories (rent, food, transportation, entertainment)\n",
    "#   - Calculate total expenses\n",
    "#   - Provide financial advice based on spending:\n",
    "#       - If expenses are less than 50% of income: \"Great job saving money!\"\n",
    "#       - If expenses are 50-75% of income: \"Consider cutting some expenses\"\n",
    "#       - If expenses exceed 75% of income: \"Warning: You're overspending\"\n",
    "\n",
    "\n",
    "income = int(input(\"Enter your monthly income\"))\n",
    "rent = int(input(\"Enter your rent\"))\n",
    "food = int(input(\"Enter your food\"))\n",
    "transportation = int(input(\"Enter your transportation\"))\n",
    "entertainment = int(input(\"Enter your entertainment\"))\n",
    "total_expense = rent + food + transportation + entertainment\n",
    "percentage = (total_expense * 100) / income\n",
    "if percentage <= 50:\n",
    "    print(\"Great job saving money!\")\n",
    "elif percentage <= 75:\n",
    "    print(\"Consider cutting some expenses\")\n",
    "else:\n",
    "    print(\"Warning: You're overspending\")"
   ]
  },
  {
   "cell_type": "code",
   "execution_count": null,
   "id": "96792db8",
   "metadata": {},
   "outputs": [],
   "source": [
    "# problem #3\n",
    "\n",
    "# Build a basic login system that:\n",
    "#\n",
    "# - Has a predefined correct username and password\n",
    "# - Allows 3 login attempts\n",
    "# - Provides different messages based on login attempts:\n",
    "#       - Correct credentials: \"Login Successful! Welcome to Python Authentication Program.\"\n",
    "#       - Wrong credentials: \"Invalid username or password\"\n",
    "#       - After 3 failed attempts: \"Account locked. Please contact support\"\n",
    "#         HINT: Use loop\n",
    "\n",
    "user_name = \"Jamal\"\n",
    "password = \"123\"\n",
    "attempts = 3\n",
    "while(True):\n",
    "    x = input(\"Enter you username\")\n",
    "    y = input(\"Enter you password\")\n",
    "    if( attempts > 0 and (user_name != x) or (password != y)):\n",
    "        print(\"Invalid username or password\")\n",
    "        attempts -= 1\n",
    "    elif attempts == 0:\n",
    "        print(\"Account locked. Please contact support\")\n",
    "        break\n",
    "    else: \n",
    "        print(\"Login Successful! Welcome to Python Authentication Program.\")\n",
    "        break"
   ]
  },
  {
   "cell_type": "code",
   "execution_count": null,
   "id": "8af28be8",
   "metadata": {},
   "outputs": [],
   "source": [
    "# problem #4\n",
    "\n",
    "# Design a discount calculator that:\n",
    "#   - Asks for the original price of an item\n",
    "#   - Applies different discount rates based on purchase amount:\n",
    "#       - Below $1000: No discount\n",
    "#       - $1000 - $5000: 10% discount\n",
    "#       - $5000 - $10000: 15% discount\n",
    "#       - Above $10000: 20% discount\n",
    "#   - Calculate and display the final price after discount\n",
    "#   - Show how much the customer saved (discounted amount)\n",
    "\n",
    "item_price = int(input('Enter item price'))\n",
    "discount = 0\n",
    "if item_price <= 1000:\n",
    "    discount = 0\n",
    "elif item_price <= 5000:\n",
    "    discount = item_price * 10 / 100\n",
    "elif item_price <= 10000:\n",
    "    discount = item_price * 15 / 100\n",
    "elif item_price > 10000:\n",
    "    discount = item_price * 20 / 100\n",
    "\n",
    "\n",
    "print(f\"Your discounted price is {item_price-discount}  and discount is {discount}\")"
   ]
  },
  {
   "cell_type": "code",
   "execution_count": null,
   "id": "a9e5a42d",
   "metadata": {},
   "outputs": [],
   "source": [
    "# problem # 5\n",
    "\n",
    "# Create a simple ATM simulation program:\n",
    "#   - Start with a balance of $500.\n",
    "#   - Ensure user provides the correct pin to perform any action\n",
    "#   - Use a while loop to repeatedly ask the user for their action: \"deposit\", \"withdraw\", or \"exit\".\n",
    "#   - For \"deposit\", ask how much and add it to the balance.\n",
    "#   - For \"withdraw\", ensure the amount doesn’t exceed the balance; if it does, print an error message.\n",
    "#   - For \"exit\", stop the loop using break.\n",
    "\n",
    "balance = 500000\n",
    "while(True):\n",
    "    user_input = int(input(\"Enter your option \\n 1. Deposit \\n 2. Withdraw \\n 3. Exit\"))\n",
    "    if user_input == 1:\n",
    "        deposit_amount = int(input(\"Enter Deposit amount\"))\n",
    "        balance += deposit_amount\n",
    "        print(f\"Your current balance is ${balance} & Your deposit was ${deposit_amount}\")\n",
    "    elif user_input == 2: \n",
    "        withdraw_amount = int(input(\"Enter Withdraw amount\"))\n",
    "        balance -= withdraw_amount\n",
    "        print(f\"Your current balance is ${balance} & your deposit is ${withdraw_amount}\")\n",
    "    elif user_input == 3: \n",
    "        break\n",
    "    else: \n",
    "        print(\"Choose right option\")"
   ]
  }
 ],
 "metadata": {
  "kernelspec": {
   "display_name": "base",
   "language": "python",
   "name": "python3"
  },
  "language_info": {
   "codemirror_mode": {
    "name": "ipython",
    "version": 3
   },
   "file_extension": ".py",
   "mimetype": "text/x-python",
   "name": "python",
   "nbconvert_exporter": "python",
   "pygments_lexer": "ipython3",
   "version": "3.13.5"
  }
 },
 "nbformat": 4,
 "nbformat_minor": 5
}
