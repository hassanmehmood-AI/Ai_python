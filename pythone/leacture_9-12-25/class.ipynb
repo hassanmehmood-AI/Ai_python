{
 "cells": [
  {
   "cell_type": "code",
   "execution_count": null,
   "id": "bac75ed3",
   "metadata": {},
   "outputs": [],
   "source": [
    "# module\n",
    "- import random as rand (for importing whole module function)\n",
    "- from random import randint as rand (for importing only one function)\n",
    "- import ranndom -> random.randint"
   ]
  },
  {
   "cell_type": "code",
   "execution_count": 1,
   "id": "87e49078",
   "metadata": {},
   "outputs": [
    {
     "data": {
      "text/plain": [
       "4"
      ]
     },
     "execution_count": 1,
     "metadata": {},
     "output_type": "execute_result"
    }
   ],
   "source": [
    "import random as r\n",
    "r.randint(1,5)\n"
   ]
  },
  {
   "cell_type": "code",
   "execution_count": 2,
   "id": "dc761255",
   "metadata": {},
   "outputs": [],
   "source": [
    "from random import randint as hassan"
   ]
  },
  {
   "cell_type": "code",
   "execution_count": 3,
   "id": "530b9f1e",
   "metadata": {},
   "outputs": [
    {
     "data": {
      "text/plain": [
       "5"
      ]
     },
     "execution_count": 3,
     "metadata": {},
     "output_type": "execute_result"
    }
   ],
   "source": [
    "hassan(5,9)"
   ]
  },
  {
   "cell_type": "code",
   "execution_count": null,
   "id": "ebd2cb10",
   "metadata": {},
   "outputs": [],
   "source": [
    "# errros\n",
    "-SyntaxError\n",
    "-NameError\n",
    "-IndexError\n",
    "-TypeError\n",
    "-ValueError\n",
    "-KeyError\n",
    "What is Exception? these are events that disrupts the normal flow of a program. they occur when an error is eccountered during program execution. \n"
   ]
  },
  {
   "cell_type": "code",
   "execution_count": 4,
   "id": "1171fbfa",
   "metadata": {},
   "outputs": [],
   "source": [
    "b=1\n",
    "try:\n",
    "    a=b\n",
    "except:\n",
    "    print(\"name is not defined\")    "
   ]
  },
  {
   "cell_type": "code",
   "execution_count": 5,
   "id": "80bebd36",
   "metadata": {},
   "outputs": [
    {
     "name": "stdout",
     "output_type": "stream",
     "text": [
      "division by zero\n"
     ]
    }
   ],
   "source": [
    "try:\n",
    "    1/0\n",
    "except ZeroDivisionError as ex:\n",
    "    print(ex)    "
   ]
  },
  {
   "cell_type": "code",
   "execution_count": null,
   "id": "d3d05dd6",
   "metadata": {},
   "outputs": [
    {
     "name": "stdout",
     "output_type": "stream",
     "text": [
      "division by zero\n"
     ]
    }
   ],
   "source": [
    "\n",
    "try:\n",
    "    result =1/0\n",
    "    i=K \n",
    "except ZeroDivisionError as ex:\n",
    "    print(ex)\n",
    "except Exception as ex1:\n",
    "    print(ex1)        \n",
    "\n",
    "else:\n",
    "    print(\"no error\")    "
   ]
  },
  {
   "cell_type": "code",
   "execution_count": 13,
   "id": "9ed93dfb",
   "metadata": {},
   "outputs": [
    {
     "name": "stdout",
     "output_type": "stream",
     "text": [
      "name 'K' is not defined\n",
      "print this everytime\n"
     ]
    }
   ],
   "source": [
    "k=9\n",
    "try:\n",
    "    result =1/9\n",
    "    i=K \n",
    "#except ZeroDivisionError as ex:\n",
    "    #print(ex)\n",
    "except Exception as ex1:\n",
    "\n",
    "    print(ex1)        \n",
    "\n",
    "else:\n",
    "    print(\"no error\")\n",
    "finally:\n",
    "    print(\"print this everytime\")   "
   ]
  }
 ],
 "metadata": {
  "kernelspec": {
   "display_name": "Python 3",
   "language": "python",
   "name": "python3"
  },
  "language_info": {
   "codemirror_mode": {
    "name": "ipython",
    "version": 3
   },
   "file_extension": ".py",
   "mimetype": "text/x-python",
   "name": "python",
   "nbconvert_exporter": "python",
   "pygments_lexer": "ipython3",
   "version": "3.13.7"
  }
 },
 "nbformat": 4,
 "nbformat_minor": 5
}
