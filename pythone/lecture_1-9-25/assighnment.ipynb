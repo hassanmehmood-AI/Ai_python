{
 "cells": [
  {
   "cell_type": "code",
   "execution_count": 1,
   "id": "87cd1ab0",
   "metadata": {},
   "outputs": [
    {
     "name": "stdout",
     "output_type": "stream",
     "text": [
      "sum is 60\n",
      "sum is -50\n",
      "sum is 0.09090909090909091\n",
      "sum is 275\n"
     ]
    }
   ],
   "source": [
    "first_number = int(input (\"enter first number\"))\n",
    "second_number = int(input(\"enter second number\"))\n",
    "\n",
    "\n",
    "print (f'sum is {first_number + second_number}')\n",
    "print (f'sum is {first_number - second_number}')\n",
    "print (f'sum is {first_number / second_number}')\n",
    "print (f'sum is {first_number * second_number}')"
   ]
  },
  {
   "cell_type": "code",
   "execution_count": 22,
   "id": "a14a0e49",
   "metadata": {},
   "outputs": [
    {
     "name": "stdout",
     "output_type": "stream",
     "text": [
      "average: 47\n"
     ]
    }
   ],
   "source": [
    "student_1 = int(input(\"enter the age of student 1\"))\n",
    "student_2 = int(input(\"enter the age of student 2\"))\n",
    "student_3 = int(input(\"enter the age of student 3\"))\n",
    "student_4 = int(input(\"enter the age of student 4\"))\n",
    "student_5 = int(input(\"enter the age of student 5\"))\n",
    "student_6 = int(input(\"enter the age of student 6\"))\n",
    "student_7 = int(input(\"enter the age of student 7\"))\n",
    "student_8 = int(input(\"enter the age of student 8\"))\n",
    "student_9 = int(input(\"enter the age of student 9\"))\n",
    "student_10 =int(input(\"enter the age of student 10\"))\n",
    "\n",
    "print (f\"average: {(student_1+ student_2+student_3+student_4+student_5+student_6+student_7+student_8+student_9+student_10 )}\")"
   ]
  },
  {
   "cell_type": "code",
   "execution_count": 21,
   "id": "f521dc96",
   "metadata": {},
   "outputs": [
    {
     "name": "stdout",
     "output_type": "stream",
     "text": [
      "7\n",
      "5\n",
      "3\n",
      "1\n"
     ]
    }
   ],
   "source": [
    "number= int(input(\"enter a 4 digit number\"))\n",
    "print(f\"{int(number/1000)}\")\n",
    "number %= 1000\n",
    "print(f\"{int(number/100)}\")\n",
    "number %= 100\n",
    "print(f\"{int(number/10)}\")\n",
    "number %= 10\n",
    "print(f\"{int(number/1)}\")\n",
    "number %= 1"
   ]
  },
  {
   "cell_type": "code",
   "execution_count": 9,
   "id": "82eda7c3",
   "metadata": {},
   "outputs": [
    {
     "name": "stdout",
     "output_type": "stream",
     "text": [
      "budget: 500\n",
      "subtracting rent,groceries and entertainment:220\n",
      "added surprise income270\n",
      "saving:0.27\n",
      "budget:270\n",
      "final budget:269.73\n"
     ]
    }
   ],
   "source": [
    "budget = 500\n",
    "rent = 200\n",
    "groceries = 50\n",
    "entertainment = 30\n",
    "surprise_income = 50\n",
    "\n",
    "print (f\"budget: {budget}\")\n",
    "budget -= rent + groceries +entertainment\n",
    "print (f\"subtracting rent,groceries and entertainment:{budget}\")\n",
    "\n",
    "budget += surprise_income\n",
    "print(f\"added surprise income{budget}\")\n",
    "\n",
    "savings = 0.1 *budget/100\n",
    "print(f\"saving:{savings}\")\n",
    "print(f\"budget:{budget}\")\n",
    "\n",
    "budget -= savings\n",
    "print(f\"final budget:{budget}\")"
   ]
  },
  {
   "cell_type": "code",
   "execution_count": null,
   "id": "c5de780d",
   "metadata": {},
   "outputs": [
    {
     "name": "stdout",
     "output_type": "stream",
     "text": [
      "remaining weeks:52\n"
     ]
    }
   ],
   "source": [
    "age =int( input(\"enter your age \"))\n",
    "print(f\"remaining weeks:{(90-age)*52}\")\n"
   ]
  },
  {
   "cell_type": "code",
   "execution_count": null,
   "id": "76d5e65c",
   "metadata": {},
   "outputs": [
    {
     "name": "stdout",
     "output_type": "stream",
     "text": [
      "BMI is 0.022222222222222223\n"
     ]
    }
   ],
   "source": [
    "weight= int(input(\"enter the weight\"))\n",
    "height= int(input(\"enter the hieght\"))\n",
    "print(f\"BMI is {weight / (height**2)}\")\n",
    "\n"
   ]
  },
  {
   "cell_type": "code",
   "execution_count": 20,
   "id": "e96f46aa",
   "metadata": {},
   "outputs": [
    {
     "name": "stdout",
     "output_type": "stream",
     "text": [
      "your147char tweet is 7 char is too long\n"
     ]
    }
   ],
   "source": [
    "tweet= input(\"enter a tweet\")\n",
    "msg_lengt= len(tweet)\n",
    "print(f\"your{msg_lengt}char tweet is {msg_lengt -140} char is too long\")"
   ]
  },
  {
   "cell_type": "code",
   "execution_count": null,
   "id": "9c173939",
   "metadata": {},
   "outputs": [],
   "source": []
  }
 ],
 "metadata": {
  "kernelspec": {
   "display_name": "Python 3",
   "language": "python",
   "name": "python3"
  },
  "language_info": {
   "codemirror_mode": {
    "name": "ipython",
    "version": 3
   },
   "file_extension": ".py",
   "mimetype": "text/x-python",
   "name": "python",
   "nbconvert_exporter": "python",
   "pygments_lexer": "ipython3",
   "version": "3.13.7"
  }
 },
 "nbformat": 4,
 "nbformat_minor": 5
}
