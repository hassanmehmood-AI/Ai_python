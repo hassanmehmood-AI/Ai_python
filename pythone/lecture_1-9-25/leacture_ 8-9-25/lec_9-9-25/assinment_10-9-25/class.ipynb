{
 "cells": [
  {
   "cell_type": "code",
   "execution_count": null,
   "id": "d5d39688",
   "metadata": {},
   "outputs": [],
   "source": [
    "# problem 1\n"
   ]
  },
  {
   "cell_type": "code",
   "execution_count": 1,
   "id": "ed751f55",
   "metadata": {},
   "outputs": [
    {
     "name": "stdout",
     "output_type": "stream",
     "text": [
      "convert celcious temperature into farenheit\n",
      "wear a light and breathable cloathes\n"
     ]
    }
   ],
   "source": [
    "print(\"convert celcious temperature into farenheit\")\n",
    "\n",
    "user_input = float(input(\"enter temperature into celcious\"))\n",
    "\n",
    "temp_farenhiet = int((user_input * 9/5)+32)\n",
    "\n",
    "if temp_farenhiet <= 32:\n",
    "  print(\"wear a heavy winter coat, gloves and hat\")\n",
    "\n",
    "elif temp_farenhiet <= 50:\n",
    "  print(\"wear a warm jacket\")\n",
    "\n",
    "elif temp_farenhiet <= 65: \n",
    "  print(\"wear a light sweater\")\n",
    "\n",
    "elif temp_farenhiet <= 80:\n",
    "  print(\"wear a t shirt\")\n",
    "\n",
    "elif temp_farenhiet > 80:\n",
    "  print(\"wear a light and breathable cloathes\")\n"
   ]
  },
  {
   "cell_type": "code",
   "execution_count": null,
   "id": "bf4471e5",
   "metadata": {},
   "outputs": [],
   "source": [
    "# problem no 2"
   ]
  },
  {
   "cell_type": "code",
   "execution_count": 4,
   "id": "9e85b990",
   "metadata": {},
   "outputs": [],
   "source": [
    "income = int(input(\"enter your monthly income\"))\n",
    "rent = int(input(\"enter your rent\"))\n",
    "food = int(input(\"enter your food\"))\n",
    "transportation = int(input(\"enter your transportation\"))\n",
    "entertainment = int(input(\"enter your entertainment\"))\n",
    "total_expense = rent + food + transportation + entertainment\n",
    "percentage = (total_expense * 100) / income\n",
    "if percentage <= 50:\n",
    "    print= (\"great job saving money\")\n",
    "elif percentage <=75:\n",
    "    print= (\"consider cuting some expenses\")\n",
    "else:\n",
    "    print= (\"you re overspending\")    "
   ]
  },
  {
   "cell_type": "code",
   "execution_count": null,
   "id": "87f21840",
   "metadata": {},
   "outputs": [
    {
     "name": "stdout",
     "output_type": "stream",
     "text": [
      "invalid user name or password\n"
     ]
    }
   ],
   "source": [
    "user_name= \"hassan\"\n",
    "password= \"12345\"\n",
    "attempts= 0\n",
    "while(True):\n",
    "    x = input (\"enter your user name\")\n",
    "    y = input (\"enter your password\")\n",
    "\n",
    "    if( attempts > 0 and (user_name !=x) or (password !=y)):\n",
    "        print(\"invalid user name or password\")\n",
    "        attempts -=1\n",
    "\n",
    "    elif attempts ==0:\n",
    "        print(\"account locked please contact support\")\n",
    "        break\n",
    "\n",
    "    else:\n",
    "        print(\"login successfull welcome to python authentication program\")\n",
    "        break\n",
    "\n",
    "            \n",
    "\n",
    "\n"
   ]
  },
  {
   "cell_type": "code",
   "execution_count": null,
   "id": "e1362d0f",
   "metadata": {},
   "outputs": [],
   "source": [
    "item_price= int (input(\"enter item price\"))\n",
    "discount = 0\n",
    "if item_price <=1000:\n",
    "    discount = 0\n",
    "elif item_price <=500:\n",
    "    discount = item_price * 10/100\n",
    "elif item_price<=1000:\n",
    "    discount = item_price* 15/100\n",
    "elif item_price > 1000:\n",
    "    discount = item_price* 20/100\n",
    "\n",
    "print(f\"your discounted price is {item_price-discount} and discount is {discount}\")"
   ]
  },
  {
   "cell_type": "code",
   "execution_count": 5,
   "id": "6874712e",
   "metadata": {},
   "outputs": [
    {
     "ename": "TypeError",
     "evalue": "'str' object is not callable",
     "output_type": "error",
     "traceback": [
      "\u001b[31m---------------------------------------------------------------------------\u001b[39m",
      "\u001b[31mTypeError\u001b[39m                                 Traceback (most recent call last)",
      "\u001b[36mCell\u001b[39m\u001b[36m \u001b[39m\u001b[32mIn[5]\u001b[39m\u001b[32m, line 18\u001b[39m\n\u001b[32m     16\u001b[39m     \u001b[38;5;28;01mbreak\u001b[39;00m\n\u001b[32m     17\u001b[39m \u001b[38;5;28;01melse\u001b[39;00m:\n\u001b[32m---> \u001b[39m\u001b[32m18\u001b[39m     \u001b[38;5;28;43mprint\u001b[39;49m\u001b[43m(\u001b[49m\u001b[33;43m\"\u001b[39;49m\u001b[33;43mchoose right option\u001b[39;49m\u001b[33;43m\"\u001b[39;49m\u001b[43m)\u001b[49m\n",
      "\u001b[31mTypeError\u001b[39m: 'str' object is not callable"
     ]
    }
   ],
   "source": [
    "balance = 500\n",
    "option = True\n",
    "while(option):\n",
    "\n",
    "    user_input= int(input(\"enter your option \\n 1. Deposit \\n 2. withdraw\\n 3.Exit\"))\n",
    "    if (user_input ==1):\n",
    "        deposit_amount = int(input(\"enter deposit amount\"))\n",
    "        balance += deposit_amount\n",
    "        print(f\"your curent balance is {balance}& your deposit is {deposit_amount}\")\n",
    "\n",
    "    elif user_input ==2:\n",
    "        withdraw_amount= int (input(\"enter withdraw_amount\"))\n",
    "        balance -= withdraw_amount\n",
    "        print(f\"your curent balance is ${balance} & your deposit is &{withdraw_amount}\")\n",
    "    elif user_input == 3:\n",
    "        break\n",
    "    else:\n",
    "        print(\"choose right option\")\n"
   ]
  }
 ],
 "metadata": {
  "kernelspec": {
   "display_name": "Python 3",
   "language": "python",
   "name": "python3"
  },
  "language_info": {
   "codemirror_mode": {
    "name": "ipython",
    "version": 3
   },
   "file_extension": ".py",
   "mimetype": "text/x-python",
   "name": "python",
   "nbconvert_exporter": "python",
   "pygments_lexer": "ipython3",
   "version": "3.13.7"
  }
 },
 "nbformat": 4,
 "nbformat_minor": 5
}
