{
 "cells": [
  {
   "cell_type": "code",
   "execution_count": null,
   "id": "e8e11710",
   "metadata": {},
   "outputs": [],
   "source": [
    "# loops\n",
    "\n"
   ]
  },
  {
   "cell_type": "code",
   "execution_count": 3,
   "id": "a3c338bc",
   "metadata": {},
   "outputs": [
    {
     "name": "stdout",
     "output_type": "stream",
     "text": [
      "2 X 1 = 2\n",
      "2 X 2 = 4\n",
      "2 X 3 = 6\n",
      "2 X 4 = 8\n",
      "2 X 5 = 10\n",
      "2 X 6 = 12\n",
      "2 X 7 = 14\n",
      "2 X 8 = 16\n",
      "2 X 9 = 18\n",
      "2 X 10 = 20\n"
     ]
    }
   ],
   "source": [
    "for i in range(1,11,1):\n",
    "    print(f\"2 X {i} = {i*2}\")"
   ]
  },
  {
   "cell_type": "code",
   "execution_count": 4,
   "id": "ed42a89f",
   "metadata": {},
   "outputs": [
    {
     "name": "stdout",
     "output_type": "stream",
     "text": [
      "oggy\n",
      "tom\n",
      "courage\n"
     ]
    }
   ],
   "source": [
    "fav_cartoons = [\"oggy\", \"tom\", \"courage\"] \n",
    "for name in fav_cartoons:\n",
    "    print(name)"
   ]
  },
  {
   "cell_type": "code",
   "execution_count": 7,
   "id": "b04d67fd",
   "metadata": {},
   "outputs": [
    {
     "name": "stdout",
     "output_type": "stream",
     "text": [
      "thanku. hi to you too!\n"
     ]
    }
   ],
   "source": [
    "answer = input(\"please say hi\")\n",
    "while answer !=\"hi\":\n",
    "    answer = input(\"rude. say hi......\")\n",
    "print(\"thanku. hi to you too!\")"
   ]
  },
  {
   "cell_type": "code",
   "execution_count": null,
   "id": "94626b19",
   "metadata": {},
   "outputs": [],
   "source": [
    "count = 4\n",
    "while count < 10:\n",
    "    count-=1"
   ]
  }
 ],
 "metadata": {
  "kernelspec": {
   "display_name": "Python 3",
   "language": "python",
   "name": "python3"
  },
  "language_info": {
   "codemirror_mode": {
    "name": "ipython",
    "version": 3
   },
   "file_extension": ".py",
   "mimetype": "text/x-python",
   "name": "python",
   "nbconvert_exporter": "python",
   "pygments_lexer": "ipython3",
   "version": "3.13.7"
  }
 },
 "nbformat": 4,
 "nbformat_minor": 5
}
