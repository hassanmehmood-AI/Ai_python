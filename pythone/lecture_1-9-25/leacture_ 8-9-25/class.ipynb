{
 "cells": [
  {
   "cell_type": "code",
   "execution_count": 1,
   "id": "a9f85479",
   "metadata": {},
   "outputs": [],
   "source": [
    "tpl = [1,2,3,4,5]\n"
   ]
  },
  {
   "cell_type": "code",
   "execution_count": null,
   "id": "af8a8256",
   "metadata": {},
   "outputs": [],
   "source": [
    "tuple(tpl)"
   ]
  },
  {
   "cell_type": "code",
   "execution_count": null,
   "id": "b8a6e5b6",
   "metadata": {},
   "outputs": [],
   "source": [
    "type(tpl)"
   ]
  },
  {
   "cell_type": "code",
   "execution_count": 2,
   "id": "80c261dc",
   "metadata": {},
   "outputs": [],
   "source": [
    "a=(1,)\n",
    "\n"
   ]
  },
  {
   "cell_type": "code",
   "execution_count": 3,
   "id": "f16ab902",
   "metadata": {},
   "outputs": [
    {
     "data": {
      "text/plain": [
       "tuple"
      ]
     },
     "execution_count": 3,
     "metadata": {},
     "output_type": "execute_result"
    }
   ],
   "source": [
    "type(a)"
   ]
  },
  {
   "cell_type": "code",
   "execution_count": 6,
   "id": "6847f312",
   "metadata": {},
   "outputs": [],
   "source": [
    "name=\"iqbal\","
   ]
  },
  {
   "cell_type": "code",
   "execution_count": 11,
   "id": "8511999a",
   "metadata": {},
   "outputs": [],
   "source": [
    "mix=[1,2,3,4,5,6,1,2,3,4,8,6,8,1,2,4,53,4]\n"
   ]
  },
  {
   "cell_type": "code",
   "execution_count": 12,
   "id": "b1e9956b",
   "metadata": {},
   "outputs": [
    {
     "data": {
      "text/plain": [
       "{1, 2, 3, 4, 5, 6, 8, 53}"
      ]
     },
     "execution_count": 12,
     "metadata": {},
     "output_type": "execute_result"
    }
   ],
   "source": [
    "set(mix)"
   ]
  },
  {
   "cell_type": "code",
   "execution_count": 13,
   "id": "7ae87c48",
   "metadata": {},
   "outputs": [],
   "source": [
    "mix=set(mix)"
   ]
  },
  {
   "cell_type": "code",
   "execution_count": null,
   "id": "ecff9e0b",
   "metadata": {},
   "outputs": [],
   "source": [
    "# conditions\n"
   ]
  },
  {
   "cell_type": "code",
   "execution_count": 4,
   "id": "c17acf15",
   "metadata": {},
   "outputs": [
    {
     "name": "stdout",
     "output_type": "stream",
     "text": [
      "you are wearing yellow dress, please enter and enjoy the hina function!!\n"
     ]
    }
   ],
   "source": [
    "colour = \"yellow\"\n",
    "if colour == 'yellow':\n",
    "    print(\"you are wearing yellow dress, please enter and enjoy the hina function!!\")\n",
    "\n",
    "else:\n",
    "    print(\"our hina function theme is yellow!!\")    "
   ]
  },
  {
   "cell_type": "code",
   "execution_count": 5,
   "id": "d9823956",
   "metadata": {},
   "outputs": [
    {
     "name": "stdout",
     "output_type": "stream",
     "text": [
      "our hina function theme is yellow!!\n"
     ]
    }
   ],
   "source": [
    "colour = input(\"what colour are you wearing\")\n",
    "if colour == 'yellow':\n",
    "    print(\"you are wearing yellow dress, please enter and enjoy the hina function!!\")\n",
    "\n",
    "else:\n",
    "    print(\"our hina function theme is yellow!!\")   "
   ]
  },
  {
   "cell_type": "code",
   "execution_count": null,
   "id": "0f4e631e",
   "metadata": {},
   "outputs": [],
   "source": [
    "colour = input(\"what colour are you wearing\")\n",
    "colour = colour.lower()\n",
    "if colour == 'yellow':\n",
    "    print(\"you are wearing yellow dress, please enter and enjoy the hina function!!\")\n",
    "\n",
    "else:\n",
    "    print(\"our hina function theme is yellow!!\")   "
   ]
  },
  {
   "cell_type": "code",
   "execution_count": 6,
   "id": "78493658",
   "metadata": {},
   "outputs": [
    {
     "name": "stdout",
     "output_type": "stream",
     "text": [
      "you have play card,please enter\n"
     ]
    }
   ],
   "source": [
    "colour = input(\"what colour are you wearing\")\n",
    "colour = colour.lower()\n",
    "card = input(\"playcard---Yes/No\")\n",
    "card = card.lower()\n",
    "if colour == 'yellow':\n",
    "    print(\"you are wearing yellow dress, please enter and enjoy the hina function!!\")\n",
    "elif card==\"yes\":\n",
    "    print(\"you have play card,please enter\")\n",
    "else:\n",
    "    print(\"our hina function theme is yellow!!\")   "
   ]
  },
  {
   "cell_type": "code",
   "execution_count": null,
   "id": "cad99784",
   "metadata": {},
   "outputs": [],
   "source": [
    "colour = input(\"what colour are you wearing\")\n",
    "colour = colour.lower()\n",
    "card = input(\"playcard---Yes/No\")\n",
    "card = card.lower()\n",
    "if colour == 'yellow'or colour == 'green':\n",
    "    print(\"you are wearing yellow dress, please enter and enjoy the hina function!!\")\n",
    "elif card==\"yes\":\n",
    "    print(\"you have play card,please enter\")\n",
    "else:\n",
    "    print(\"our hina function theme is yellow!!\") \n",
    "    "
   ]
  },
  {
   "cell_type": "code",
   "execution_count": 11,
   "id": "8f6bdc9f",
   "metadata": {},
   "outputs": [
    {
     "data": {
      "text/plain": [
       "1"
      ]
     },
     "execution_count": 11,
     "metadata": {},
     "output_type": "execute_result"
    }
   ],
   "source": [
    "import random\n",
    "random.randint(1,6)"
   ]
  },
  {
   "cell_type": "code",
   "execution_count": 32,
   "id": "fd93236c",
   "metadata": {},
   "outputs": [
    {
     "data": {
      "text/plain": [
       "'momin'"
      ]
     },
     "execution_count": 32,
     "metadata": {},
     "output_type": "execute_result"
    }
   ],
   "source": [
    "random.choice([\"Hassan\",\"abdul Rehman\",\"jamal\",\"iqbal\",\"zubair\",\"ali\",\"momin\"])"
   ]
  }
 ],
 "metadata": {
  "kernelspec": {
   "display_name": "Python 3",
   "language": "python",
   "name": "python3"
  },
  "language_info": {
   "codemirror_mode": {
    "name": "ipython",
    "version": 3
   },
   "file_extension": ".py",
   "mimetype": "text/x-python",
   "name": "python",
   "nbconvert_exporter": "python",
   "pygments_lexer": "ipython3",
   "version": "3.13.7"
  }
 },
 "nbformat": 4,
 "nbformat_minor": 5
}
