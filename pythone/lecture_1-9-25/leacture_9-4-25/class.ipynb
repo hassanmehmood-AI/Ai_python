{
 "cells": [
  {
   "cell_type": "code",
   "execution_count": null,
   "id": "58279926",
   "metadata": {},
   "outputs": [],
   "source": [
    "# Data structures\n"
   ]
  },
  {
   "cell_type": "code",
   "execution_count": null,
   "id": "3a8952d3",
   "metadata": {},
   "outputs": [
    {
     "data": {
      "text/plain": [
       "'ali'"
      ]
     },
     "execution_count": 1,
     "metadata": {},
     "output_type": "execute_result"
    }
   ],
   "source": [
    "profile = [\"ali\", True, \"4th\" ,23]\n",
    "profile[0]"
   ]
  },
  {
   "cell_type": "code",
   "execution_count": 7,
   "id": "35f3b221",
   "metadata": {},
   "outputs": [
    {
     "data": {
      "text/plain": [
       "'b'"
      ]
     },
     "execution_count": 7,
     "metadata": {},
     "output_type": "execute_result"
    }
   ],
   "source": [
    "lst = [1,2,3,4,5,['a','b','c'],5,6,7]\n",
    "# 2d list,array\n",
    "lst[5][1]"
   ]
  },
  {
   "cell_type": "code",
   "execution_count": 15,
   "id": "65632eb7",
   "metadata": {},
   "outputs": [
    {
     "data": {
      "text/plain": [
       "[1, 2, 3, 4, 5, ['a', 'b', 'c'], 5, 6, 7]"
      ]
     },
     "execution_count": 15,
     "metadata": {},
     "output_type": "execute_result"
    }
   ],
   "source": [
    "lst"
   ]
  },
  {
   "cell_type": "code",
   "execution_count": 17,
   "id": "38fd1975",
   "metadata": {},
   "outputs": [],
   "source": [
    "lst[0]='one'"
   ]
  },
  {
   "cell_type": "code",
   "execution_count": 18,
   "id": "ddd035a9",
   "metadata": {},
   "outputs": [
    {
     "data": {
      "text/plain": [
       "['one', 2, 3, 4, 5, ['a', 'b', 'c'], 5, 6, 7]"
      ]
     },
     "execution_count": 18,
     "metadata": {},
     "output_type": "execute_result"
    }
   ],
   "source": [
    "lst"
   ]
  },
  {
   "cell_type": "code",
   "execution_count": 24,
   "id": "da627103",
   "metadata": {},
   "outputs": [
    {
     "data": {
      "text/plain": [
       "[1, 1, 'one', 2, 3, 4, 5, ['a', 'b', 'c'], 5, 6, 7]"
      ]
     },
     "execution_count": 24,
     "metadata": {},
     "output_type": "execute_result"
    }
   ],
   "source": [
    "lst.insert(0,1)\n",
    "lst"
   ]
  },
  {
   "cell_type": "code",
   "execution_count": 32,
   "id": "0d04155d",
   "metadata": {},
   "outputs": [
    {
     "data": {
      "text/plain": [
       "['chicken chili dry', 'karela gosht', 'dum pukht']"
      ]
     },
     "execution_count": 32,
     "metadata": {},
     "output_type": "execute_result"
    }
   ],
   "source": [
    "foods = ['jalfarezzi','chicken chili dry','karela gosht','dum pukht']\n",
    "a,b,c,d = foods\n",
    "breakfast,*food=foods\n",
    "food"
   ]
  },
  {
   "cell_type": "code",
   "execution_count": 12,
   "id": "0fdadea4",
   "metadata": {},
   "outputs": [
    {
     "data": {
      "text/plain": [
       "[22, 44, 55, 66]"
      ]
     },
     "execution_count": 12,
     "metadata": {},
     "output_type": "execute_result"
    }
   ],
   "source": [
    "lst1 = [22,44,55,66]\n",
    "lst2=lst1\n",
    "lst2\n"
   ]
  },
  {
   "cell_type": "code",
   "execution_count": 35,
   "id": "e8d7e04c",
   "metadata": {},
   "outputs": [],
   "source": [
    "lst2.append(\"ok\")\n"
   ]
  },
  {
   "cell_type": "code",
   "execution_count": 36,
   "id": "3468e89a",
   "metadata": {},
   "outputs": [
    {
     "data": {
      "text/plain": [
       "[22, 44, 55, 66, 'ok']"
      ]
     },
     "execution_count": 36,
     "metadata": {},
     "output_type": "execute_result"
    }
   ],
   "source": [
    "lst2"
   ]
  },
  {
   "cell_type": "code",
   "execution_count": 37,
   "id": "054255a2",
   "metadata": {},
   "outputs": [
    {
     "data": {
      "text/plain": [
       "True"
      ]
     },
     "execution_count": 37,
     "metadata": {},
     "output_type": "execute_result"
    }
   ],
   "source": [
    "lst1==lst2"
   ]
  },
  {
   "cell_type": "code",
   "execution_count": 38,
   "id": "a79ae588",
   "metadata": {},
   "outputs": [
    {
     "data": {
      "text/plain": [
       "True"
      ]
     },
     "execution_count": 38,
     "metadata": {},
     "output_type": "execute_result"
    }
   ],
   "source": [
    "lst1 is lst2"
   ]
  },
  {
   "cell_type": "code",
   "execution_count": 39,
   "id": "e022b2ff",
   "metadata": {},
   "outputs": [],
   "source": [
    "a = [1,2,3]\n",
    "b = [1,2,3]\n"
   ]
  },
  {
   "cell_type": "code",
   "execution_count": 40,
   "id": "183cf81d",
   "metadata": {},
   "outputs": [
    {
     "data": {
      "text/plain": [
       "True"
      ]
     },
     "execution_count": 40,
     "metadata": {},
     "output_type": "execute_result"
    }
   ],
   "source": [
    "a==b"
   ]
  },
  {
   "cell_type": "code",
   "execution_count": 41,
   "id": "ced1a15b",
   "metadata": {},
   "outputs": [
    {
     "data": {
      "text/plain": [
       "False"
      ]
     },
     "execution_count": 41,
     "metadata": {},
     "output_type": "execute_result"
    }
   ],
   "source": [
    "a is b"
   ]
  },
  {
   "cell_type": "code",
   "execution_count": null,
   "id": "aa68c946",
   "metadata": {},
   "outputs": [],
   "source": [
    "deep = [1,2,3,4,['a','b','c'],5,6,7,8]\n"
   ]
  },
  {
   "cell_type": "code",
   "execution_count": null,
   "id": "53274f35",
   "metadata": {},
   "outputs": [],
   "source": [
    "import copy\n",
    "\n",
    "d = copy.deepcopy()"
   ]
  },
  {
   "cell_type": "code",
   "execution_count": null,
   "id": "e45d5c34",
   "metadata": {},
   "outputs": [
    {
     "data": {
      "text/plain": [
       "'naaan chany'"
      ]
     },
     "execution_count": 55,
     "metadata": {},
     "output_type": "execute_result"
    }
   ],
   "source": [
    "breakfast = ['eggs','naaan chany','halwa puri']\n",
    "lunch = ['karaily','biryani']\n",
    "dinner = ['qorma','bbq']\n",
    "\n",
    "offering = [1,2,3,['eggs','naaan chany','halwa puri'],4, 5, 6]\n",
    "offering[3][1]"
   ]
  },
  {
   "cell_type": "code",
   "execution_count": 14,
   "id": "b0ea0f69",
   "metadata": {},
   "outputs": [
    {
     "data": {
      "text/plain": [
       "[44, 44, 44, 44]"
      ]
     },
     "execution_count": 14,
     "metadata": {},
     "output_type": "execute_result"
    }
   ],
   "source": [
    "lst1 = [44,44,44,44]\n",
    "lst2=lst1\n",
    "lst2"
   ]
  },
  {
   "cell_type": "code",
   "execution_count": 16,
   "id": "45f91693",
   "metadata": {},
   "outputs": [
    {
     "name": "stdout",
     "output_type": "stream",
     "text": [
      "\n"
     ]
    }
   ],
   "source": [
    "strs = [\"flower\",\"flow\",\"flight\", \"\"]\n",
    "prefix = strs[0]\n",
    "\n",
    "for x in strs[1:]:\n",
    "    temp = \"\"\n",
    "    length = len(prefix) if len(prefix) < len(x) else len(x)\n",
    "    i = 0\n",
    "    while i < length:\n",
    "\n",
    "        if prefix[i] == x[i]:\n",
    "            temp += prefix[i]\n",
    "        else:\n",
    "            break\n",
    "        i += 1\n",
    "    prefix = temp\n",
    "\n",
    "print(prefix)"
   ]
  },
  {
   "cell_type": "code",
   "execution_count": 4,
   "id": "1f5e237b",
   "metadata": {},
   "outputs": [
    {
     "name": "stdout",
     "output_type": "stream",
     "text": [
      "You are eligible to vote.\n"
     ]
    }
   ],
   "source": [
    "age = 25\n",
    "if age >= 18:\n",
    "    print (\"You are eligible to vote.\")\n",
    "else:\n",
    "    print (\"You are not yet eligible to vote.\")"
   ]
  },
  {
   "cell_type": "code",
   "execution_count": 13,
   "id": "1537889d",
   "metadata": {},
   "outputs": [],
   "source": [
    "# dictionary\n",
    "\n",
    "pro = { \n",
    "    \"name\": \"oggy\",\n",
    "    \"age\": 22,\n",
    "    \"isAlive\":True,\n",
    "    \"fav_taks\": [\"eating\",\"fighting\",\"crying\"],\n",
    "       'olivia': {\n",
    "    \"name\": \"oggy\",\n",
    "    \"age\": 22,\n",
    "    \"isAlive\":True,\n",
    "    \"fav_taks\": [\"eating\",\"fighting\",\"crying\"],\n",
    "    }\n",
    "    \n",
    "}"
   ]
  },
  {
   "cell_type": "code",
   "execution_count": 14,
   "id": "b4583727",
   "metadata": {},
   "outputs": [
    {
     "data": {
      "text/plain": [
       "dict_items([('name', 'oggy'), ('age', 22), ('isAlive', True), ('fav_taks', ['eating', 'fighting', 'crying']), ('olivia', {'name': 'oggy', 'age': 22, 'isAlive': True, 'fav_taks': ['eating', 'fighting', 'crying']})])"
      ]
     },
     "execution_count": 14,
     "metadata": {},
     "output_type": "execute_result"
    }
   ],
   "source": [
    "pro.items()"
   ]
  },
  {
   "cell_type": "code",
   "execution_count": null,
   "id": "0fd91b32",
   "metadata": {},
   "outputs": [
    {
     "data": {
      "text/plain": [
       "22"
      ]
     },
     "execution_count": 6,
     "metadata": {},
     "output_type": "execute_result"
    }
   ],
   "source": [
    "pro[\"age\"]"
   ]
  },
  {
   "cell_type": "code",
   "execution_count": 7,
   "id": "2f8995f5",
   "metadata": {},
   "outputs": [],
   "source": [
    "pro[\"age\"]=23"
   ]
  },
  {
   "cell_type": "code",
   "execution_count": 8,
   "id": "9d502ac7",
   "metadata": {},
   "outputs": [
    {
     "data": {
      "text/plain": [
       "{'name': 'oggy',\n",
       " 'age': 23,\n",
       " 'isAlive': True,\n",
       " 'fav_taks': ['eating', 'fighting', 'crying']}"
      ]
     },
     "execution_count": 8,
     "metadata": {},
     "output_type": "execute_result"
    }
   ],
   "source": [
    "pro"
   ]
  },
  {
   "cell_type": "code",
   "execution_count": 29,
   "id": "ce5b1bd1",
   "metadata": {},
   "outputs": [
    {
     "data": {
      "text/plain": [
       "{'height': 5,\n",
       " 'age': 26,\n",
       " 'isAlive': True,\n",
       " 'hobby': ['cricket', 'Badminton'],\n",
       " 'Ali': {'height': 5,\n",
       "  'age': 27,\n",
       "  'isAlive': True,\n",
       "  'hobby': ['cricket', 'Badminton']}}"
      ]
     },
     "execution_count": 29,
     "metadata": {},
     "output_type": "execute_result"
    }
   ],
   "source": [
    "Hassan={\n",
    "    \"height\":5,\n",
    "    \"age\":25,\n",
    "    \"isAlive\": True,\n",
    "    \"hobby\" : [\"cricket\",\"Badminton\"],\n",
    "\n",
    "\"Bilal\":{\n",
    "    \"height\":5,\n",
    "    \"age\":26,\n",
    "    \"isAlive\": True,\n",
    "    \"hobby\" : [\"cricket\",\"Badminton\"],\n",
    "\n",
    " \"Ali\":{\n",
    "    \"height\":5,\n",
    "    \"age\":27,\n",
    "    \"isAlive\": True,\n",
    "    \"hobby\" : [\"cricket\",\"Badminton\"],\n",
    " }   \n",
    "}\n",
    "\n",
    "}\n",
    "Hassan[\"Bilal\"][\"Ali\"][\"age\"]\n",
    "Hassan[\"Bilal\"]"
   ]
  },
  {
   "cell_type": "code",
   "execution_count": 1,
   "id": "335973c2",
   "metadata": {},
   "outputs": [],
   "source": [
    "tpl = [1,2,3,4,5]"
   ]
  },
  {
   "cell_type": "code",
   "execution_count": null,
   "id": "fcaeb865",
   "metadata": {},
   "outputs": [
    {
     "data": {
      "text/plain": [
       "(1, 2, 3, 4, 5)"
      ]
     },
     "execution_count": 2,
     "metadata": {},
     "output_type": "execute_result"
    }
   ],
   "source": [
    "tuple(tpl)\n"
   ]
  },
  {
   "cell_type": "code",
   "execution_count": 3,
   "id": "9ebfe4f1",
   "metadata": {},
   "outputs": [
    {
     "data": {
      "text/plain": [
       "list"
      ]
     },
     "execution_count": 3,
     "metadata": {},
     "output_type": "execute_result"
    }
   ],
   "source": [
    "type(tpl)"
   ]
  }
 ],
 "metadata": {
  "kernelspec": {
   "display_name": "Python 3",
   "language": "python",
   "name": "python3"
  },
  "language_info": {
   "codemirror_mode": {
    "name": "ipython",
    "version": 3
   },
   "file_extension": ".py",
   "mimetype": "text/x-python",
   "name": "python",
   "nbconvert_exporter": "python",
   "pygments_lexer": "ipython3",
   "version": "3.13.7"
  }
 },
 "nbformat": 4,
 "nbformat_minor": 5
}
