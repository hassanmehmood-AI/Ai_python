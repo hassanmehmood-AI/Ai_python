{
 "cells": [
  {
   "cell_type": "markdown",
   "id": "c247a22a",
   "metadata": {},
   "source": [
    "# Lecture 1 - 9/1/25\n",
    "1. Your variable name should be explicit\n",
    "2. Your variable name should not start with digits\n",
    "3. No space is allowed in variable names\n",
    "4. No special character are allowed\n",
    "5. No reserved words are allowed \n",
    "6. No duplication is allowed\n",
    "7. Naming Conventions -> snake_Case(python), camelCase(JS), PascalCase(C#, .NET), kebab-case(CSS)\n",
    "\n",
    "help(\"Keywords\")\n",
    "\n",
    "+=, -=, *=, /=, //=, %=, **=\n",
    "\n",
    "Dataype: Strings\n",
    "\n",
    "- escape characters"
   ]
  },
  {
   "cell_type": "code",
   "execution_count": 1,
   "id": "0b35a1ec",
   "metadata": {},
   "outputs": [
    {
     "ename": "ValueError",
     "evalue": "invalid literal for int() with base 10: ''",
     "output_type": "error",
     "traceback": [
      "\u001b[31m---------------------------------------------------------------------------\u001b[39m",
      "\u001b[31mValueError\u001b[39m                                Traceback (most recent call last)",
      "\u001b[36mCell\u001b[39m\u001b[36m \u001b[39m\u001b[32mIn[1]\u001b[39m\u001b[32m, line 3\u001b[39m\n\u001b[32m      1\u001b[39m \u001b[38;5;66;03m# problem 1\u001b[39;00m\n\u001b[32m----> \u001b[39m\u001b[32m3\u001b[39m first_number = \u001b[38;5;28;43mint\u001b[39;49m\u001b[43m(\u001b[49m\u001b[38;5;28;43minput\u001b[39;49m\u001b[43m(\u001b[49m\u001b[33;43m\"\u001b[39;49m\u001b[33;43mEnter first number\u001b[39;49m\u001b[33;43m\"\u001b[39;49m\u001b[43m)\u001b[49m\u001b[43m)\u001b[49m\n\u001b[32m      4\u001b[39m second_number = \u001b[38;5;28mint\u001b[39m(\u001b[38;5;28minput\u001b[39m(\u001b[33m\"\u001b[39m\u001b[33mEnter second number\u001b[39m\u001b[33m\"\u001b[39m))\n\u001b[32m      5\u001b[39m \u001b[38;5;28mprint\u001b[39m(\u001b[33mf\u001b[39m\u001b[33m\"\u001b[39m\u001b[33mSum is \u001b[39m\u001b[38;5;132;01m{\u001b[39;00mfirst_number\u001b[38;5;250m \u001b[39m+\u001b[38;5;250m \u001b[39msecond_number\u001b[38;5;132;01m}\u001b[39;00m\u001b[33m\"\u001b[39m)\n",
      "\u001b[31mValueError\u001b[39m: invalid literal for int() with base 10: ''"
     ]
    }
   ],
   "source": [
    "# problem 1\n",
    "\n",
    "first_number = int(input(\"Enter first number\"))\n",
    "second_number = int(input(\"Enter second number\"))\n",
    "print(f\"Sum is {first_number + second_number}\")\n",
    "print(f\"Subtraction is {first_number - second_number}\")\n",
    "print(f\"Division is {first_number / second_number}\")\n",
    "print(f\"Multiplication is {first_number * second_number}\")"
   ]
  },
  {
   "cell_type": "code",
   "execution_count": null,
   "id": "8bb338ac",
   "metadata": {},
   "outputs": [
    {
     "name": "stdout",
     "output_type": "stream",
     "text": [
      "Average: 47.5\n"
     ]
    }
   ],
   "source": [
    "# problem 2 calculate the avg of 10 student age in the class\n",
    "\n",
    "student_1 = int(input(\"Enter student 1 age\"))\n",
    "student_2 = int(input(\"Enter student 2 age\"))\n",
    "student_3 = int(input(\"Enter student 3 age\"))\n",
    "student_4 = int(input(\"Enter student 4 age\"))\n",
    "student_5 = int(input(\"Enter student 5 age\"))\n",
    "student_6 = int(input(\"Enter student 6 age\"))\n",
    "student_7 = int(input(\"Enter student 7 age\"))\n",
    "student_8 = int(input(\"Enter student 8 age\"))\n",
    "student_9 = int(input(\"Enter student 9 age\"))\n",
    "student_10 = int(input(\"Enter student 10 age\"))\n",
    "\n",
    "print(\n",
    "    f\"Average: {(student_1 + student_2 + student_3 + student_4 + student_5 + student_6 + student_7 + student_8 + student_9 + student_10) / 10}\"\n",
    ")"
   ]
  },
  {
   "cell_type": "code",
   "execution_count": null,
   "id": "457e0f99",
   "metadata": {},
   "outputs": [
    {
     "name": "stdout",
     "output_type": "stream",
     "text": [
      "7\n",
      "5\n",
      "3\n",
      "1\n"
     ]
    }
   ],
   "source": [
    "# problem 3 enter a 4 digit number = 7531\n",
    "\n",
    "number = int(input(\"enter a 4 digit number\"))\n",
    "\n",
    "print(f\"{int(number/1000)}\")\n",
    "number %= 1000\n",
    "print(f\"{int(number/100)}\")\n",
    "number %= 100\n",
    "print(f\"{int(number/10)}\")\n",
    "number %= 10\n",
    "print(number)"
   ]
  },
  {
   "cell_type": "code",
   "execution_count": null,
   "id": "c57354c6",
   "metadata": {},
   "outputs": [
    {
     "name": "stdout",
     "output_type": "stream",
     "text": [
      "Diameter is 20\n",
      "Circumference is 62.800000000000004\n",
      "Area is 314.0\n"
     ]
    }
   ],
   "source": [
    "# problem 4\n",
    "\n",
    "radius = int(input(\"Enter radius of the circle\"))\n",
    "print(f\"Diameter is {radius*2}\")\n",
    "print(f\"Circumference is {3.14 * radius*2}\")\n",
    "print(f\"Area is {3.14 * (radius**2)}\")"
   ]
  },
  {
   "cell_type": "code",
   "execution_count": null,
   "id": "daf56ab2",
   "metadata": {},
   "outputs": [
    {
     "name": "stdout",
     "output_type": "stream",
     "text": [
      "/////////////// Welcome to our shop ///////////////\n",
      "You purchased Coffee, quantity is 2 and your subtotal is 4600\n"
     ]
    }
   ],
   "source": [
    "# problem 5 shopping cart excercise\n",
    "\n",
    "print(\"/////////////// Welcome to our shop ///////////////\")\n",
    "\n",
    "item_name = input(\"Enter item name you are  buying\")\n",
    "item_price = int(input(\"Enter the price of the item\"))\n",
    "item_quantity = int(input(\"Enter the quantity that you are purchasing\"))\n",
    "\n",
    "print(f'You purchased {item_name}, quantity is {item_quantity} and your subtotal is {item_quantity * item_price}')\n",
    "                    \n"
   ]
  },
  {
   "cell_type": "code",
   "execution_count": null,
   "id": "2dd601fb",
   "metadata": {},
   "outputs": [
    {
     "name": "stdout",
     "output_type": "stream",
     "text": [
      "Budget: 500\n",
      "Subtracting rent, groceries and entertainment: 220\n",
      "added suprise income 50 \n",
      "Budget: 270\n",
      "saving: 27.0\n",
      "Budget: 270\n",
      "Final Budget: 243.0\n"
     ]
    }
   ],
   "source": [
    "# problem 6 budget planner\n",
    "\n",
    "budget = 500\n",
    "rent = 200\n",
    "groceries = 50\n",
    "surprise_income = 50\n",
    "entertainment = 30\n",
    "\n",
    "\n",
    "print(f'Budget: {budget}')\n",
    "\n",
    "budget -= rent + groceries + entertainment\n",
    "print(f'Subtracting rent, groceries and entertainment: {budget}')\n",
    "\n",
    "budget += surprise_income\n",
    "print(f\"added suprise income {surprise_income} \")\n",
    "print(f\"Budget: {budget}\")\n",
    "\n",
    "\n",
    "savings = 10 * budget / 100\n",
    "print(f'saving: {savings}')\n",
    "print(f\"Budget: {budget}\")\n",
    "\n",
    "\n",
    "budget -= savings\n",
    "print(f'Final Budget: {budget}')"
   ]
  },
  {
   "cell_type": "code",
   "execution_count": null,
   "id": "fd4f19ac",
   "metadata": {},
   "outputs": [
    {
     "name": "stdout",
     "output_type": "stream",
     "text": [
      "Remaining weeks: 3432\n"
     ]
    }
   ],
   "source": [
    "# problem 7 calculate the remaining weeks\n",
    "\n",
    "age = int(input(\"Enter your age\"))\n",
    "print(f'Remaining weeks: {(90-age)*52}')"
   ]
  },
  {
   "cell_type": "code",
   "execution_count": null,
   "id": "a73334fa",
   "metadata": {},
   "outputs": [
    {
     "name": "stdout",
     "output_type": "stream",
     "text": [
      "BMI is 28.79762002092375\n"
     ]
    }
   ],
   "source": [
    "# problem 7 Calculate your BMI\n",
    "\n",
    "weight = float(input(\"Enter your weight\"))\n",
    "height = float(input(\"Enter your height\"))\n",
    "print(f\"BMI is {weight / (height**2) }\")"
   ]
  },
  {
   "cell_type": "code",
   "execution_count": null,
   "id": "b18943e2",
   "metadata": {},
   "outputs": [
    {
     "name": "stdout",
     "output_type": "stream",
     "text": [
      "Your 147 char tweet is 7 chars too long!\n"
     ]
    }
   ],
   "source": [
    "# problem 8 tweet checker\n",
    "\n",
    "tweet = input(\"Enter you tweet\")\n",
    "msg_length = len(tweet)\n",
    "print(f\"Your {msg_length} char tweet is {msg_length - 140} chars too long!\")"
   ]
  },
  {
   "cell_type": "code",
   "execution_count": 20,
   "id": "0376cf99",
   "metadata": {},
   "outputs": [
    {
     "name": "stdout",
     "output_type": "stream",
     "text": [
      "marina Khan\n"
     ]
    },
    {
     "data": {
      "text/plain": [
       "'marina Khan'"
      ]
     },
     "execution_count": 20,
     "metadata": {},
     "output_type": "execute_result"
    }
   ],
   "source": [
    "name = \"marina Khan\"\n",
    "print (name)\n",
    "name [3]\n",
    "len (name)\n",
    "name [0:6]\n",
    "name [7:12]\n",
    "name [0:12:1]"
   ]
  },
  {
   "cell_type": "code",
   "execution_count": 21,
   "id": "9d4b522f",
   "metadata": {},
   "outputs": [
    {
     "data": {
      "text/plain": [
       "True"
      ]
     },
     "execution_count": 21,
     "metadata": {},
     "output_type": "execute_result"
    }
   ],
   "source": [
    "5>3\n"
   ]
  },
  {
   "cell_type": "code",
   "execution_count": 22,
   "id": "b76aaf1f",
   "metadata": {},
   "outputs": [
    {
     "data": {
      "text/plain": [
       "True"
      ]
     },
     "execution_count": 22,
     "metadata": {},
     "output_type": "execute_result"
    }
   ],
   "source": [
    "5>=5"
   ]
  },
  {
   "cell_type": "code",
   "execution_count": 40,
   "id": "9f99c16c",
   "metadata": {},
   "outputs": [
    {
     "data": {
      "text/plain": [
       "False"
      ]
     },
     "execution_count": 40,
     "metadata": {},
     "output_type": "execute_result"
    }
   ],
   "source": [
    "\"hassan\"==\"mehmood\"\n",
    "# 79+103+103+121==79+108+105+118+105+97"
   ]
  },
  {
   "cell_type": "code",
   "execution_count": null,
   "id": "e52e62a3",
   "metadata": {},
   "outputs": [
    {
     "data": {
      "text/plain": [
       "97"
      ]
     },
     "execution_count": 26,
     "metadata": {},
     "output_type": "execute_result"
    }
   ],
   "source": [
    "ord (\"a\")\n"
   ]
  },
  {
   "cell_type": "code",
   "execution_count": 27,
   "id": "e74a3668",
   "metadata": {},
   "outputs": [
    {
     "data": {
      "text/plain": [
       "406"
      ]
     },
     "execution_count": 27,
     "metadata": {},
     "output_type": "execute_result"
    }
   ],
   "source": [
    "79+103+103+121"
   ]
  },
  {
   "cell_type": "code",
   "execution_count": 29,
   "id": "0455b50a",
   "metadata": {},
   "outputs": [
    {
     "data": {
      "text/plain": [
       "612"
      ]
     },
     "execution_count": 29,
     "metadata": {},
     "output_type": "execute_result"
    }
   ],
   "source": [
    "79+108+105+118+105+97"
   ]
  },
  {
   "cell_type": "code",
   "execution_count": 30,
   "id": "b8627a8b",
   "metadata": {},
   "outputs": [
    {
     "data": {
      "text/plain": [
       "'marina Khan'"
      ]
     },
     "execution_count": 30,
     "metadata": {},
     "output_type": "execute_result"
    }
   ],
   "source": [
    "name"
   ]
  },
  {
   "cell_type": "code",
   "execution_count": 32,
   "id": "2a8ef32d",
   "metadata": {},
   "outputs": [
    {
     "data": {
      "text/plain": [
       "False"
      ]
     },
     "execution_count": 32,
     "metadata": {},
     "output_type": "execute_result"
    }
   ],
   "source": [
    "'M' in name"
   ]
  },
  {
   "cell_type": "code",
   "execution_count": null,
   "id": "ea2b546e",
   "metadata": {},
   "outputs": [
    {
     "data": {
      "text/plain": [
       "'Hassan Mehmood'"
      ]
     },
     "execution_count": 39,
     "metadata": {},
     "output_type": "execute_result"
    }
   ],
   "source": [
    "name = (\"Hassan Mehmood\")\n",
    "name[0:14]\n"
   ]
  },
  {
   "cell_type": "code",
   "execution_count": null,
   "id": "0a985313",
   "metadata": {},
   "outputs": [
    {
     "data": {
      "text/plain": [
       "True"
      ]
     },
     "execution_count": 5,
     "metadata": {},
     "output_type": "execute_result"
    }
   ],
   "source": [
    "profile = [\"ali\", True, \"4th\" \"GB\"]\n",
    "profile[0]"
   ]
  },
  {
   "cell_type": "code",
   "execution_count": null,
   "id": "8921fec6",
   "metadata": {},
   "outputs": [],
   "source": []
  }
 ],
 "metadata": {
  "kernelspec": {
   "display_name": "Python 3",
   "language": "python",
   "name": "python3"
  },
  "language_info": {
   "codemirror_mode": {
    "name": "ipython",
    "version": 3
   },
   "file_extension": ".py",
   "mimetype": "text/x-python",
   "name": "python",
   "nbconvert_exporter": "python",
   "pygments_lexer": "ipython3",
   "version": "3.13.7"
  }
 },
 "nbformat": 4,
 "nbformat_minor": 5
}
